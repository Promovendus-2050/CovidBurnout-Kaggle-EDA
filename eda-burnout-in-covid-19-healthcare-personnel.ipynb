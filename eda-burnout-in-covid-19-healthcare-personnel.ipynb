{
 "cells": [
  {
   "cell_type": "code",
   "execution_count": 1,
   "id": "df6ec8ef",
   "metadata": {
    "_cell_guid": "b1076dfc-b9ad-4769-8c92-a6c4dae69d19",
    "_uuid": "8f2839f25d086af736a60e9eeb907d3b93b6e0e5",
    "execution": {
     "iopub.execute_input": "2023-02-15T01:53:47.761340Z",
     "iopub.status.busy": "2023-02-15T01:53:47.760437Z",
     "iopub.status.idle": "2023-02-15T01:53:47.780820Z",
     "shell.execute_reply": "2023-02-15T01:53:47.778761Z"
    },
    "papermill": {
     "duration": 0.03108,
     "end_time": "2023-02-15T01:53:47.783224",
     "exception": false,
     "start_time": "2023-02-15T01:53:47.752144",
     "status": "completed"
    },
    "tags": []
   },
   "outputs": [
    {
     "name": "stdout",
     "output_type": "stream",
     "text": [
      "/kaggle/input/burnout-in-covid-19-healthcare-personnel/Burn Out Questionnaire final.xlsx\n"
     ]
    }
   ],
   "source": [
    "# This Python 3 environment comes with many helpful analytics libraries installed\n",
    "# It is defined by the kaggle/python Docker image: https://github.com/kaggle/docker-python\n",
    "# For example, here's several helpful packages to load\n",
    "\n",
    "import numpy as np # linear algebra\n",
    "import pandas as pd # data processing, CSV file I/O (e.g. pd.read_csv)\n",
    "\n",
    "# Input data files are available in the read-only \"../input/\" directory\n",
    "# For example, running this (by clicking run or pressing Shift+Enter) will list all files under the input directory\n",
    "\n",
    "import os\n",
    "for dirname, _, filenames in os.walk('/kaggle/input'):\n",
    "    for filename in filenames:\n",
    "        print(os.path.join(dirname, filename))\n",
    "\n",
    "# You can write up to 20GB to the current directory (/kaggle/working/) that gets preserved as output when you create a version using \"Save & Run All\" \n",
    "# You can also write temporary files to /kaggle/temp/, but they won't be saved outside of the current session"
   ]
  },
  {
   "cell_type": "markdown",
   "id": "0ecdbd7f",
   "metadata": {
    "papermill": {
     "duration": 0.00314,
     "end_time": "2023-02-15T01:53:47.790156",
     "exception": false,
     "start_time": "2023-02-15T01:53:47.787016",
     "status": "completed"
    },
    "tags": []
   },
   "source": [
    "First, we will import the necessary libraries and load the dataset into a pandas dataframe:"
   ]
  },
  {
   "cell_type": "code",
   "execution_count": 2,
   "id": "742c74db",
   "metadata": {
    "execution": {
     "iopub.execute_input": "2023-02-15T01:53:47.798834Z",
     "iopub.status.busy": "2023-02-15T01:53:47.798432Z",
     "iopub.status.idle": "2023-02-15T01:53:50.009236Z",
     "shell.execute_reply": "2023-02-15T01:53:50.008046Z"
    },
    "papermill": {
     "duration": 2.217997,
     "end_time": "2023-02-15T01:53:50.011548",
     "exception": false,
     "start_time": "2023-02-15T01:53:47.793551",
     "status": "completed"
    },
    "tags": []
   },
   "outputs": [],
   "source": [
    "import pandas as pd\n",
    "import numpy as np\n",
    "import matplotlib.pyplot as plt\n",
    "import seaborn as sns\n",
    "\n",
    "df = pd.read_excel('/kaggle/input/burnout-in-covid-19-healthcare-personnel/Burn Out Questionnaire final.xlsx')"
   ]
  },
  {
   "cell_type": "markdown",
   "id": "ec8085fc",
   "metadata": {
    "papermill": {
     "duration": 0.003121,
     "end_time": "2023-02-15T01:53:50.018117",
     "exception": false,
     "start_time": "2023-02-15T01:53:50.014996",
     "status": "completed"
    },
    "tags": []
   },
   "source": [
    "Next, we can use the info() and describe() functions to explore the dataset:"
   ]
  },
  {
   "cell_type": "code",
   "execution_count": 3,
   "id": "2fe684b7",
   "metadata": {
    "execution": {
     "iopub.execute_input": "2023-02-15T01:53:50.026355Z",
     "iopub.status.busy": "2023-02-15T01:53:50.025942Z",
     "iopub.status.idle": "2023-02-15T01:53:50.141327Z",
     "shell.execute_reply": "2023-02-15T01:53:50.139431Z"
    },
    "papermill": {
     "duration": 0.12221,
     "end_time": "2023-02-15T01:53:50.143604",
     "exception": false,
     "start_time": "2023-02-15T01:53:50.021394",
     "status": "completed"
    },
    "tags": []
   },
   "outputs": [
    {
     "name": "stdout",
     "output_type": "stream",
     "text": [
      "<class 'pandas.core.frame.DataFrame'>\n",
      "RangeIndex: 656 entries, 0 to 655\n",
      "Data columns (total 74 columns):\n",
      " #   Column                                                                                                                                    Non-Null Count  Dtype  \n",
      "---  ------                                                                                                                                    --------------  -----  \n",
      " 0   Timestamp                                                                                                                                 654 non-null    object \n",
      " 1   Working Station (While treating Covid patients)?                                                                                          557 non-null    object \n",
      " 2   Age                                                                                                                                       654 non-null    object \n",
      " 3   Gender                                                                                                                                    654 non-null    object \n",
      " 4   Comorbidities?                                                                                                                            654 non-null    object \n",
      " 5   Vaccination                                                                                                                               654 non-null    object \n",
      " 6   Department                                                                                                                                654 non-null    object \n",
      " 7   Designation                                                                                                                               654 non-null    object \n",
      " 8   Years of service ?                                                                                                                        654 non-null    object \n",
      " 9   Previously worked in a critical care unit ?                                                                                               654 non-null    object \n",
      " 10  How many hours of work per week in the current situation?                                                                                 654 non-null    object \n",
      " 11  If you are an ICU nurse, nurse patient ratio ?                                                                                            342 non-null    object \n",
      " 12  Adequate PPE provided?                                                                                                                    654 non-null    object \n",
      " 13  Was mental health support available?                                                                                                      654 non-null    object \n",
      " 14  Received Covid 19 specific training?                                                                                                      654 non-null    object \n",
      " 15  Tested for Covid 19 ?                                                                                                                     654 non-null    object \n",
      " 16  If tested , were you positive for Covid 19 ?                                                                                              505 non-null    object \n",
      " 17  Living with family while working with covid 19 patients ?                                                                                 652 non-null    object \n",
      " 18  Personal Burnout [How often are you physically exhausted?]                                                                                654 non-null    object \n",
      " 19  Score                                                                                                                                     654 non-null    float64\n",
      " 20  Personal Burnout [How often are you emotionally exhausted?]                                                                               654 non-null    object \n",
      " 21  Score.1                                                                                                                                   654 non-null    float64\n",
      " 22  Personal Burnout [How often do you think: â€œI canâ€™t take it anymore?]                                                                  654 non-null    object \n",
      " 23  Score.2                                                                                                                                   654 non-null    float64\n",
      " 24  Personal Burnout [How often do you feel weak and susceptible to illness?]                                                                 654 non-null    object \n",
      " 25  Score.3                                                                                                                                   654 non-null    float64\n",
      " 26  Personal Burnout [How often do you feel worn out (extremely tired)?]                                                                      654 non-null    object \n",
      " 27  Score.4                                                                                                                                   654 non-null    float64\n",
      " 28  Domain 1                                                                                                                                  655 non-null    float64\n",
      " 29  Work-related Burnout [Are you exhausted in the morning at the thought of another day at work?]                                            654 non-null    object \n",
      " 30  Score.5                                                                                                                                   654 non-null    float64\n",
      " 31  Work-related Burnout [Do you feel that every working hour is tiring for you?]                                                             654 non-null    object \n",
      " 32  Score.6                                                                                                                                   654 non-null    float64\n",
      " 33  Work-related Burnout [Do you have enough energy for family and friends during leisure time?]                                              654 non-null    object \n",
      " 34  Score.7                                                                                                                                   654 non-null    float64\n",
      " 35  Work-related Burnout [Do you feel that your work is emotionally exhausting?]                                                              654 non-null    object \n",
      " 36  Score.8                                                                                                                                   654 non-null    float64\n",
      " 37  Work-related Burnout [Does your work frustrate you?]                                                                                      654 non-null    object \n",
      " 38  Score.9                                                                                                                                   654 non-null    float64\n",
      " 39  Work-related Burnout [Do you feel burnt out (complete physical or mental exhaustion) because of your work?]                               654 non-null    object \n",
      " 40  Score.10                                                                                                                                  654 non-null    float64\n",
      " 41  Domain 2                                                                                                                                  655 non-null    float64\n",
      " 42  Client Related burnout [Do you feel it is hard to work in the current scenario?]                                                          654 non-null    object \n",
      " 43  Score.11                                                                                                                                  654 non-null    float64\n",
      " 44  Client Related burnout [Does it drain more of your energy to work during the current scenario?]                                           654 non-null    object \n",
      " 45  Score.12                                                                                                                                  654 non-null    float64\n",
      " 46  Client Related burnout [Do you find it fruitful while performing your work during the current scenario?]                                  654 non-null    object \n",
      " 47  Score.13                                                                                                                                  654 non-null    float64\n",
      " 48  Client Related burnout [Do you feel that you are giving more than what you get back while working in the current scenario?]               654 non-null    object \n",
      " 49  Score.14                                                                                                                                  653 non-null    float64\n",
      " 50  Client Related burnout [Do you hesitate to work during this current scenario?]                                                            654 non-null    object \n",
      " 51  Score.15                                                                                                                                  654 non-null    float64\n",
      " 52  Client Related burnout [Do you feel depressed because of the current scenario?]                                                           654 non-null    object \n",
      " 53  Score.16                                                                                                                                  654 non-null    float64\n",
      " 54  Client Related burnout [Do you feel that your patience is tested while working in the current scenario?]                                  654 non-null    object \n",
      " 55  Score.17                                                                                                                                  654 non-null    float64\n",
      " 56  Client Related burnout [Do you feel lock down due to the current scenario has added stress on you?]                                       654 non-null    object \n",
      " 57  Score.18                                                                                                                                  654 non-null    float64\n",
      " 58  Client Related burnout [Do you have fear to catch COVID-19 infection while working in the current scenario?]                              654 non-null    object \n",
      " 59  Score.19                                                                                                                                  654 non-null    float64\n",
      " 60  Client Related burnout [Do you have a fear of family members catching infection because of your work exposure?]                           654 non-null    object \n",
      " 61  Score.20                                                                                                                                  654 non-null    float64\n",
      " 62  Client Related burnout [Do you feel welcomed by the community because you are a health care worker and working in the current scenario?]  654 non-null    object \n",
      " 63  Score.21                                                                                                                                  654 non-null    float64\n",
      " 64  Client Related burnout [Are you thinking of any substance abuse (alcohol/drugs/smoking) during this period of lockdown?]                  654 non-null    object \n",
      " 65  Score.22                                                                                                                                  654 non-null    float64\n",
      " 66  Client Related burnout [Do you have a fear of death while working in the current scenario?]                                               654 non-null    object \n",
      " 67  Score.23                                                                                                                                  654 non-null    float64\n",
      " 68  Client Related burnout [Do you feel you are being properly protected by the hospital while working in the current scenario?]              654 non-null    object \n",
      " 69  Score.24                                                                                                                                  654 non-null    float64\n",
      " 70  Client Related burnout [Do you feel you are being supported by colleagues during the current scenario?]                                   654 non-null    object \n",
      " 71  Score.25                                                                                                                                  654 non-null    float64\n",
      " 72  Domain 3                                                                                                                                  655 non-null    float64\n",
      " 73  Overall Average                                                                                                                           655 non-null    float64\n",
      "dtypes: float64(30), object(44)\n",
      "memory usage: 379.4+ KB\n"
     ]
    },
    {
     "data": {
      "text/html": [
       "<div>\n",
       "<style scoped>\n",
       "    .dataframe tbody tr th:only-of-type {\n",
       "        vertical-align: middle;\n",
       "    }\n",
       "\n",
       "    .dataframe tbody tr th {\n",
       "        vertical-align: top;\n",
       "    }\n",
       "\n",
       "    .dataframe thead th {\n",
       "        text-align: right;\n",
       "    }\n",
       "</style>\n",
       "<table border=\"1\" class=\"dataframe\">\n",
       "  <thead>\n",
       "    <tr style=\"text-align: right;\">\n",
       "      <th></th>\n",
       "      <th>Score</th>\n",
       "      <th>Score.1</th>\n",
       "      <th>Score.2</th>\n",
       "      <th>Score.3</th>\n",
       "      <th>Score.4</th>\n",
       "      <th>Domain 1</th>\n",
       "      <th>Score.5</th>\n",
       "      <th>Score.6</th>\n",
       "      <th>Score.7</th>\n",
       "      <th>Score.8</th>\n",
       "      <th>...</th>\n",
       "      <th>Score.18</th>\n",
       "      <th>Score.19</th>\n",
       "      <th>Score.20</th>\n",
       "      <th>Score.21</th>\n",
       "      <th>Score.22</th>\n",
       "      <th>Score.23</th>\n",
       "      <th>Score.24</th>\n",
       "      <th>Score.25</th>\n",
       "      <th>Domain 3</th>\n",
       "      <th>Overall Average</th>\n",
       "    </tr>\n",
       "  </thead>\n",
       "  <tbody>\n",
       "    <tr>\n",
       "      <th>count</th>\n",
       "      <td>654.000000</td>\n",
       "      <td>654.000000</td>\n",
       "      <td>654.000000</td>\n",
       "      <td>654.000000</td>\n",
       "      <td>654.000000</td>\n",
       "      <td>655.000000</td>\n",
       "      <td>654.000000</td>\n",
       "      <td>654.000000</td>\n",
       "      <td>654.000000</td>\n",
       "      <td>654.000000</td>\n",
       "      <td>...</td>\n",
       "      <td>654.000000</td>\n",
       "      <td>654.000000</td>\n",
       "      <td>654.000000</td>\n",
       "      <td>654.000000</td>\n",
       "      <td>654.000000</td>\n",
       "      <td>654.000000</td>\n",
       "      <td>654.000000</td>\n",
       "      <td>654.000000</td>\n",
       "      <td>655.000000</td>\n",
       "      <td>655.000000</td>\n",
       "    </tr>\n",
       "    <tr>\n",
       "      <th>mean</th>\n",
       "      <td>63.455657</td>\n",
       "      <td>62.805810</td>\n",
       "      <td>52.568807</td>\n",
       "      <td>50.496942</td>\n",
       "      <td>58.868502</td>\n",
       "      <td>57.639144</td>\n",
       "      <td>64.525994</td>\n",
       "      <td>57.186544</td>\n",
       "      <td>50.191131</td>\n",
       "      <td>66.475535</td>\n",
       "      <td>...</td>\n",
       "      <td>59.212538</td>\n",
       "      <td>63.073394</td>\n",
       "      <td>91.360856</td>\n",
       "      <td>45.718654</td>\n",
       "      <td>24.273700</td>\n",
       "      <td>44.495413</td>\n",
       "      <td>54.396024</td>\n",
       "      <td>32.454128</td>\n",
       "      <td>56.166084</td>\n",
       "      <td>57.213891</td>\n",
       "    </tr>\n",
       "    <tr>\n",
       "      <th>std</th>\n",
       "      <td>26.261152</td>\n",
       "      <td>25.724609</td>\n",
       "      <td>27.900897</td>\n",
       "      <td>26.081903</td>\n",
       "      <td>26.929739</td>\n",
       "      <td>21.667520</td>\n",
       "      <td>26.090403</td>\n",
       "      <td>27.427288</td>\n",
       "      <td>28.772783</td>\n",
       "      <td>26.049226</td>\n",
       "      <td>...</td>\n",
       "      <td>28.086485</td>\n",
       "      <td>29.368610</td>\n",
       "      <td>294.022087</td>\n",
       "      <td>29.002356</td>\n",
       "      <td>29.029214</td>\n",
       "      <td>30.941913</td>\n",
       "      <td>31.103651</td>\n",
       "      <td>25.187995</td>\n",
       "      <td>22.980047</td>\n",
       "      <td>17.637010</td>\n",
       "    </tr>\n",
       "    <tr>\n",
       "      <th>min</th>\n",
       "      <td>0.000000</td>\n",
       "      <td>0.000000</td>\n",
       "      <td>0.000000</td>\n",
       "      <td>0.000000</td>\n",
       "      <td>0.000000</td>\n",
       "      <td>0.000000</td>\n",
       "      <td>0.000000</td>\n",
       "      <td>0.000000</td>\n",
       "      <td>0.000000</td>\n",
       "      <td>0.000000</td>\n",
       "      <td>...</td>\n",
       "      <td>0.000000</td>\n",
       "      <td>0.000000</td>\n",
       "      <td>0.000000</td>\n",
       "      <td>0.000000</td>\n",
       "      <td>0.000000</td>\n",
       "      <td>0.000000</td>\n",
       "      <td>0.000000</td>\n",
       "      <td>0.000000</td>\n",
       "      <td>5.000000</td>\n",
       "      <td>2.884615</td>\n",
       "    </tr>\n",
       "    <tr>\n",
       "      <th>25%</th>\n",
       "      <td>50.000000</td>\n",
       "      <td>50.000000</td>\n",
       "      <td>25.000000</td>\n",
       "      <td>25.000000</td>\n",
       "      <td>50.000000</td>\n",
       "      <td>45.000000</td>\n",
       "      <td>50.000000</td>\n",
       "      <td>25.000000</td>\n",
       "      <td>25.000000</td>\n",
       "      <td>50.000000</td>\n",
       "      <td>...</td>\n",
       "      <td>25.000000</td>\n",
       "      <td>50.000000</td>\n",
       "      <td>75.000000</td>\n",
       "      <td>25.000000</td>\n",
       "      <td>0.000000</td>\n",
       "      <td>25.000000</td>\n",
       "      <td>25.000000</td>\n",
       "      <td>25.000000</td>\n",
       "      <td>48.333333</td>\n",
       "      <td>49.038462</td>\n",
       "    </tr>\n",
       "    <tr>\n",
       "      <th>50%</th>\n",
       "      <td>75.000000</td>\n",
       "      <td>50.000000</td>\n",
       "      <td>50.000000</td>\n",
       "      <td>50.000000</td>\n",
       "      <td>50.000000</td>\n",
       "      <td>60.000000</td>\n",
       "      <td>75.000000</td>\n",
       "      <td>50.000000</td>\n",
       "      <td>50.000000</td>\n",
       "      <td>75.000000</td>\n",
       "      <td>...</td>\n",
       "      <td>75.000000</td>\n",
       "      <td>75.000000</td>\n",
       "      <td>75.000000</td>\n",
       "      <td>50.000000</td>\n",
       "      <td>25.000000</td>\n",
       "      <td>50.000000</td>\n",
       "      <td>50.000000</td>\n",
       "      <td>25.000000</td>\n",
       "      <td>56.666667</td>\n",
       "      <td>58.653846</td>\n",
       "    </tr>\n",
       "    <tr>\n",
       "      <th>75%</th>\n",
       "      <td>75.000000</td>\n",
       "      <td>75.000000</td>\n",
       "      <td>75.000000</td>\n",
       "      <td>75.000000</td>\n",
       "      <td>75.000000</td>\n",
       "      <td>72.500000</td>\n",
       "      <td>75.000000</td>\n",
       "      <td>75.000000</td>\n",
       "      <td>75.000000</td>\n",
       "      <td>75.000000</td>\n",
       "      <td>...</td>\n",
       "      <td>75.000000</td>\n",
       "      <td>75.000000</td>\n",
       "      <td>100.000000</td>\n",
       "      <td>75.000000</td>\n",
       "      <td>50.000000</td>\n",
       "      <td>75.000000</td>\n",
       "      <td>75.000000</td>\n",
       "      <td>50.000000</td>\n",
       "      <td>63.333333</td>\n",
       "      <td>65.384615</td>\n",
       "    </tr>\n",
       "    <tr>\n",
       "      <th>max</th>\n",
       "      <td>100.000000</td>\n",
       "      <td>100.000000</td>\n",
       "      <td>100.000000</td>\n",
       "      <td>100.000000</td>\n",
       "      <td>100.000000</td>\n",
       "      <td>100.000000</td>\n",
       "      <td>100.000000</td>\n",
       "      <td>100.000000</td>\n",
       "      <td>100.000000</td>\n",
       "      <td>100.000000</td>\n",
       "      <td>...</td>\n",
       "      <td>100.000000</td>\n",
       "      <td>100.000000</td>\n",
       "      <td>7575.000000</td>\n",
       "      <td>100.000000</td>\n",
       "      <td>100.000000</td>\n",
       "      <td>100.000000</td>\n",
       "      <td>100.000000</td>\n",
       "      <td>100.000000</td>\n",
       "      <td>553.333333</td>\n",
       "      <td>344.230769</td>\n",
       "    </tr>\n",
       "  </tbody>\n",
       "</table>\n",
       "<p>8 rows × 30 columns</p>\n",
       "</div>"
      ],
      "text/plain": [
       "            Score     Score.1     Score.2     Score.3     Score.4    Domain 1  \\\n",
       "count  654.000000  654.000000  654.000000  654.000000  654.000000  655.000000   \n",
       "mean    63.455657   62.805810   52.568807   50.496942   58.868502   57.639144   \n",
       "std     26.261152   25.724609   27.900897   26.081903   26.929739   21.667520   \n",
       "min      0.000000    0.000000    0.000000    0.000000    0.000000    0.000000   \n",
       "25%     50.000000   50.000000   25.000000   25.000000   50.000000   45.000000   \n",
       "50%     75.000000   50.000000   50.000000   50.000000   50.000000   60.000000   \n",
       "75%     75.000000   75.000000   75.000000   75.000000   75.000000   72.500000   \n",
       "max    100.000000  100.000000  100.000000  100.000000  100.000000  100.000000   \n",
       "\n",
       "          Score.5     Score.6     Score.7     Score.8  ...    Score.18  \\\n",
       "count  654.000000  654.000000  654.000000  654.000000  ...  654.000000   \n",
       "mean    64.525994   57.186544   50.191131   66.475535  ...   59.212538   \n",
       "std     26.090403   27.427288   28.772783   26.049226  ...   28.086485   \n",
       "min      0.000000    0.000000    0.000000    0.000000  ...    0.000000   \n",
       "25%     50.000000   25.000000   25.000000   50.000000  ...   25.000000   \n",
       "50%     75.000000   50.000000   50.000000   75.000000  ...   75.000000   \n",
       "75%     75.000000   75.000000   75.000000   75.000000  ...   75.000000   \n",
       "max    100.000000  100.000000  100.000000  100.000000  ...  100.000000   \n",
       "\n",
       "         Score.19     Score.20    Score.21    Score.22    Score.23  \\\n",
       "count  654.000000   654.000000  654.000000  654.000000  654.000000   \n",
       "mean    63.073394    91.360856   45.718654   24.273700   44.495413   \n",
       "std     29.368610   294.022087   29.002356   29.029214   30.941913   \n",
       "min      0.000000     0.000000    0.000000    0.000000    0.000000   \n",
       "25%     50.000000    75.000000   25.000000    0.000000   25.000000   \n",
       "50%     75.000000    75.000000   50.000000   25.000000   50.000000   \n",
       "75%     75.000000   100.000000   75.000000   50.000000   75.000000   \n",
       "max    100.000000  7575.000000  100.000000  100.000000  100.000000   \n",
       "\n",
       "         Score.24    Score.25    Domain 3  Overall Average   \n",
       "count  654.000000  654.000000  655.000000        655.000000  \n",
       "mean    54.396024   32.454128   56.166084         57.213891  \n",
       "std     31.103651   25.187995   22.980047         17.637010  \n",
       "min      0.000000    0.000000    5.000000          2.884615  \n",
       "25%     25.000000   25.000000   48.333333         49.038462  \n",
       "50%     50.000000   25.000000   56.666667         58.653846  \n",
       "75%     75.000000   50.000000   63.333333         65.384615  \n",
       "max    100.000000  100.000000  553.333333        344.230769  \n",
       "\n",
       "[8 rows x 30 columns]"
      ]
     },
     "execution_count": 3,
     "metadata": {},
     "output_type": "execute_result"
    }
   ],
   "source": [
    "# Explore the shape and data types of the dataframe\n",
    "df.info()\n",
    "\n",
    "# Get summary statistics of the numerical variables\n",
    "df.describe()"
   ]
  },
  {
   "cell_type": "markdown",
   "id": "7e766105",
   "metadata": {
    "papermill": {
     "duration": 0.003592,
     "end_time": "2023-02-15T01:53:50.151297",
     "exception": false,
     "start_time": "2023-02-15T01:53:50.147705",
     "status": "completed"
    },
    "tags": []
   },
   "source": [
    "We also check for missing values:"
   ]
  },
  {
   "cell_type": "code",
   "execution_count": 4,
   "id": "8ddef385",
   "metadata": {
    "execution": {
     "iopub.execute_input": "2023-02-15T01:53:50.161479Z",
     "iopub.status.busy": "2023-02-15T01:53:50.160602Z",
     "iopub.status.idle": "2023-02-15T01:53:50.174176Z",
     "shell.execute_reply": "2023-02-15T01:53:50.172783Z"
    },
    "papermill": {
     "duration": 0.021472,
     "end_time": "2023-02-15T01:53:50.176788",
     "exception": false,
     "start_time": "2023-02-15T01:53:50.155316",
     "status": "completed"
    },
    "tags": []
   },
   "outputs": [
    {
     "data": {
      "text/plain": [
       "Timestamp                                                                                                   2\n",
       "Working Station (While treating Covid patients)?                                                           99\n",
       "Age                                                                                                         2\n",
       "Gender                                                                                                      2\n",
       "Comorbidities?                                                                                              2\n",
       "                                                                                                           ..\n",
       "Score.24                                                                                                    2\n",
       "Client Related burnout [Do you feel you are being supported by colleagues during the current scenario?]     2\n",
       "Score.25                                                                                                    2\n",
       "Domain 3                                                                                                    1\n",
       "Overall Average                                                                                             1\n",
       "Length: 74, dtype: int64"
      ]
     },
     "execution_count": 4,
     "metadata": {},
     "output_type": "execute_result"
    }
   ],
   "source": [
    "# Check for missing values\n",
    "df.isna().sum()"
   ]
  },
  {
   "cell_type": "markdown",
   "id": "f5a84749",
   "metadata": {
    "papermill": {
     "duration": 0.003727,
     "end_time": "2023-02-15T01:53:50.184789",
     "exception": false,
     "start_time": "2023-02-15T01:53:50.181062",
     "status": "completed"
    },
    "tags": []
   },
   "source": [
    "To visualize the distributions of the variables, we can create histograms:"
   ]
  },
  {
   "cell_type": "code",
   "execution_count": 5,
   "id": "cd605679",
   "metadata": {
    "execution": {
     "iopub.execute_input": "2023-02-15T01:53:50.194634Z",
     "iopub.status.busy": "2023-02-15T01:53:50.194254Z",
     "iopub.status.idle": "2023-02-15T01:53:52.743476Z",
     "shell.execute_reply": "2023-02-15T01:53:52.742676Z"
    },
    "papermill": {
     "duration": 2.556613,
     "end_time": "2023-02-15T01:53:52.745412",
     "exception": false,
     "start_time": "2023-02-15T01:53:50.188799",
     "status": "completed"
    },
    "tags": []
   },
   "outputs": [
    {
     "data": {
      "image/png": "[encoded data removed]",
      "text/plain": [
       "<Figure size 1000x1000 with 30 Axes>"
      ]
     },
     "metadata": {},
     "output_type": "display_data"
    }
   ],
   "source": [
    "# Plot histograms of the numerical variables\n",
    "df.hist(figsize=(10,10))\n",
    "plt.show()"
   ]
  },
  {
   "cell_type": "code",
   "execution_count": 6,
   "id": "8f59886d",
   "metadata": {
    "execution": {
     "iopub.execute_input": "2023-02-15T01:53:52.757617Z",
     "iopub.status.busy": "2023-02-15T01:53:52.757220Z",
     "iopub.status.idle": "2023-02-15T01:53:52.762683Z",
     "shell.execute_reply": "2023-02-15T01:53:52.761589Z"
    },
    "papermill": {
     "duration": 0.015031,
     "end_time": "2023-02-15T01:53:52.765668",
     "exception": false,
     "start_time": "2023-02-15T01:53:52.750637",
     "status": "completed"
    },
    "tags": []
   },
   "outputs": [
    {
     "name": "stdout",
     "output_type": "stream",
     "text": [
      "Index(['Timestamp', 'Working Station (While treating Covid patients)?', 'Age',\n",
      "       'Gender', 'Comorbidities?', 'Vaccination ', 'Department', 'Designation',\n",
      "       'Years of service ?', 'Previously worked in a critical care unit ? ',\n",
      "       'How many hours of work per week in the current situation?',\n",
      "       'If you are an ICU nurse, nurse patient ratio ? ',\n",
      "       'Adequate PPE provided?', 'Was mental health support available?',\n",
      "       'Received Covid 19 specific training?', 'Tested for Covid 19 ?',\n",
      "       'If tested , were you positive for Covid 19 ?',\n",
      "       'Living with family while working with covid 19 patients ?',\n",
      "       'Personal Burnout [How often are you physically exhausted?]', 'Score',\n",
      "       'Personal Burnout [How often are you emotionally exhausted?]',\n",
      "       'Score.1',\n",
      "       'Personal Burnout [How often do you think: â€œI canâ€™t take it anymore?]',\n",
      "       'Score.2',\n",
      "       'Personal Burnout [How often do you feel weak and susceptible to illness?]',\n",
      "       'Score.3',\n",
      "       'Personal Burnout [How often do you feel worn out (extremely tired)?]',\n",
      "       'Score.4', 'Domain 1',\n",
      "       'Work-related Burnout [Are you exhausted in the morning at the thought of another day at work?]',\n",
      "       'Score.5',\n",
      "       'Work-related Burnout [Do you feel that every working hour is tiring for you?]',\n",
      "       'Score.6',\n",
      "       'Work-related Burnout [Do you have enough energy for family and friends during leisure time?]',\n",
      "       'Score.7',\n",
      "       'Work-related Burnout [Do you feel that your work is emotionally exhausting?]',\n",
      "       'Score.8', 'Work-related Burnout [Does your work frustrate you?]',\n",
      "       'Score.9',\n",
      "       'Work-related Burnout [Do you feel burnt out (complete physical or mental exhaustion) because of your work?]',\n",
      "       'Score.10', 'Domain 2',\n",
      "       'Client Related burnout [Do you feel it is hard to work in the current scenario?]',\n",
      "       'Score.11',\n",
      "       'Client Related burnout [Does it drain more of your energy to work during the current scenario?]',\n",
      "       'Score.12',\n",
      "       'Client Related burnout [Do you find it fruitful while performing your work during the current scenario?]',\n",
      "       'Score.13',\n",
      "       'Client Related burnout [Do you feel that you are giving more than what you get back while working in the current scenario?]',\n",
      "       'Score.14',\n",
      "       'Client Related burnout [Do you hesitate to work during this current scenario?]',\n",
      "       'Score.15',\n",
      "       'Client Related burnout [Do you feel depressed because of the current scenario?]',\n",
      "       'Score.16',\n",
      "       'Client Related burnout [Do you feel that your patience is tested while working in the current scenario?]',\n",
      "       'Score.17',\n",
      "       'Client Related burnout [Do you feel lock down due to the current scenario has added stress on you?]',\n",
      "       'Score.18',\n",
      "       'Client Related burnout [Do you have fear to catch COVID-19 infection while working in the current scenario?]',\n",
      "       'Score.19',\n",
      "       'Client Related burnout [Do you have a fear of family members catching infection because of your work exposure?]',\n",
      "       'Score.20',\n",
      "       'Client Related burnout [Do you feel welcomed by the community because you are a health care worker and working in the current scenario?]',\n",
      "       'Score.21',\n",
      "       'Client Related burnout [Are you thinking of any substance abuse (alcohol/drugs/smoking) during this period of lockdown?]',\n",
      "       'Score.22',\n",
      "       'Client Related burnout [Do you have a fear of death while working in the current scenario?]',\n",
      "       'Score.23',\n",
      "       'Client Related burnout [Do you feel you are being properly protected by the hospital while working in the current scenario?]',\n",
      "       'Score.24',\n",
      "       'Client Related burnout [Do you feel you are being supported by colleagues during the current scenario?]',\n",
      "       'Score.25', 'Domain 3', 'Overall Average '],\n",
      "      dtype='object')\n"
     ]
    }
   ],
   "source": [
    "print(df.columns)\n"
   ]
  },
  {
   "cell_type": "markdown",
   "id": "fdce1519",
   "metadata": {
    "papermill": {
     "duration": 0.00541,
     "end_time": "2023-02-15T01:53:52.776373",
     "exception": false,
     "start_time": "2023-02-15T01:53:52.770963",
     "status": "completed"
    },
    "tags": []
   },
   "source": [
    "A few other additional steps I would recommend: \n",
    "\n",
    "**1. Data Cleaning - Further examine missing values and decide how to deal with them. For this decide if you want to impute missing values in the \"Gender\" column with the most common value, or remove the rows with missing values altogether.**"
   ]
  },
  {
   "cell_type": "markdown",
   "id": "70cc581f",
   "metadata": {
    "papermill": {
     "duration": 0.004899,
     "end_time": "2023-02-15T01:53:52.786710",
     "exception": false,
     "start_time": "2023-02-15T01:53:52.781811",
     "status": "completed"
    },
    "tags": []
   },
   "source": [
    "**2. Feature Engineering - Create new features based on domain knowledge or intuition about what factors might contribute to burnout among healthcare personnel. For example, we know that working more shifts or working closer to the source of infection increases risks, stress and burnout in the Healthcare Workers or HCWs.**\n",
    "\n",
    "**In this regard, create a metric to calculate the ratio of the number of hours worked per week to the number of hours worked per day, or create a binary variable indicating whether the healthcare personnel work was in a COVID-19 ward or not.**"
   ]
  },
  {
   "cell_type": "markdown",
   "id": "c511be06",
   "metadata": {
    "papermill": {
     "duration": 0.005001,
     "end_time": "2023-02-15T01:53:52.797074",
     "exception": false,
     "start_time": "2023-02-15T01:53:52.792073",
     "status": "completed"
    },
    "tags": []
   },
   "source": [
    "**3. Data Visualization: Create more plots to examine the relationships between variables and identify patterns. For example, generate a scatter plot matrix to see the pairwise relationships between variables, or a count plot to visualize the distribution of categorical variables. To explore the relationships between variables, create scatter plots and correlation matrices. Optionally, create new features from existing variables, such as the length of service in years.**"
   ]
  },
  {
   "cell_type": "markdown",
   "id": "bc437f23",
   "metadata": {
    "papermill": {
     "duration": 0.004998,
     "end_time": "2023-02-15T01:53:52.807327",
     "exception": false,
     "start_time": "2023-02-15T01:53:52.802329",
     "status": "completed"
    },
    "tags": []
   },
   "source": [
    "**5. Standard Tests: Perform statistical tests to determine whether there are significant differences between groups of healthcare personnel based on their demographic and work-related characteristics. For example, perform a t-test to see if there is a significant difference in burnout rates between males and females. Alternatively, use a chi-squared test to see if there is a significant association between burnout rates and whether the healthcare personnel work in a COVID-19 ward or not.**"
   ]
  }
 ],
 "metadata": {
  "kernelspec": {
   "display_name": "Python 3",
   "language": "python",
   "name": "python3"
  },
  "language_info": {
   "codemirror_mode": {
    "name": "ipython",
    "version": 3
   },
   "file_extension": ".py",
   "mimetype": "text/x-python",
   "name": "python",
   "nbconvert_exporter": "python",
   "pygments_lexer": "ipython3",
   "version": "3.7.12"
  },
  "papermill": {
   "default_parameters": {},
   "duration": 14.022387,
   "end_time": "2023-02-15T01:53:53.633923",
   "environment_variables": {},
   "exception": null,
   "input_path": "__notebook__.ipynb",
   "output_path": "__notebook__.ipynb",
   "parameters": {},
   "start_time": "2023-02-15T01:53:39.611536",
   "version": "2.3.4"
  }
 },
 "nbformat": 4,
 "nbformat_minor": 5
}
